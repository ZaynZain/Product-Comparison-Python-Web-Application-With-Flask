{
 "cells": [
  {
   "cell_type": "code",
   "execution_count": 10,
   "id": "eaa4b4cc-991a-4886-9035-f898deb63943",
   "metadata": {
    "scrolled": true
   },
   "outputs": [
    {
     "name": "stdout",
     "output_type": "stream",
     "text": [
      "data added\n",
      "data added\n",
      "data added\n",
      "data added\n",
      "data added\n",
      "data added\n",
      "data added\n",
      "data added\n",
      "data added\n",
      "data added\n",
      "data added\n",
      "data added\n"
     ]
    }
   ],
   "source": [
    "import mysql.connector\n",
    "import csv\n",
    "\n",
    "# Create a database connection object and configure it here\n",
    "connection = mysql.connector.connect(\n",
    "    host=\"localhost\",\n",
    "    user=\"root\",\n",
    "    password=\"\",\n",
    "    database=\"csvdatastore\"\n",
    ")\n",
    "\n",
    "def insert_data_to_database(connection, data1):\n",
    "    try:\n",
    "        cursor = connection.cursor()\n",
    "        for row in data1:\n",
    "            insert_query1 = \"INSERT INTO laptops (`laptops-href`, `productname`, `price`, `discount`, `detai_lproduct`, `photo-src`) VALUES (%s, %s, %s, %s, %s, %s)\"\n",
    "            cursor.execute(insert_query1, (row['laptops-href'], row['productname'], row['price'], row['discount'], row['detai_lproduct'], row['photo-src']))\n",
    "            print(\"data added\")\n",
    "\n",
    "\n",
    "        connection.commit()\n",
    "        cursor.close()\n",
    "    except Exception as e:\n",
    "        print(f\"An error occurred while inserting data: {str(e)}\")\n",
    "\n",
    "def read_csv_file(file_path):\n",
    "    data = []\n",
    "    with open(file_path, 'r', newline='') as csvfile:\n",
    "        reader = csv.DictReader(csvfile)\n",
    "        for row in reader:\n",
    "            data.append(row)\n",
    "    return data\n",
    "\n",
    "def main():\n",
    "    file_path1 = 'amzon_Laptops.csv'  # Replace with the path to your CSV file\n",
    "    data1 = read_csv_file(file_path1)\n",
    "\n",
    "   \n",
    "\n",
    "    insert_data_to_database(connection, data1)  # Pass the connection object and data2\n",
    "\n",
    "if __name__ == \"__main__\":\n",
    "    main()\n"
   ]
  },
  {
   "cell_type": "code",
   "execution_count": null,
   "id": "b66913d5-c15b-458e-ab5e-e3dd15b133ec",
   "metadata": {},
   "outputs": [],
   "source": []
  },
  {
   "cell_type": "code",
   "execution_count": 24,
   "id": "5a88da01-4b7b-447f-a7df-61b9278c3149",
   "metadata": {},
   "outputs": [
    {
     "name": "stdout",
     "output_type": "stream",
     "text": [
      "An error occurred while inserting data: 2055: Cursor is not connected\n"
     ]
    }
   ],
   "source": [
    "import mysql.connector\n",
    "import csv\n",
    "connection = mysql.connector.connect(\n",
    "    host=\"localhost\",\n",
    "    user=\"root\",\n",
    "    password=\"\",\n",
    "    database=\"csvdatastore\"\n",
    ")\n",
    "\n",
    "def insert_data_to_database(connection, data2):\n",
    "    try:\n",
    "        cursor = connection.cursor()\n",
    "        for row in data2:\n",
    "            insert_query2 = \"INSERT INTO daraz_laptops (`laptops-href`, `title`, `price`, `description`, `photo_url`, `rating`) VALUES (%s, %s, %s, %s, %s, %s)\"\n",
    "            cursor.execute(insert_query2, (row['laptops-href'], row['title'], row['price'], row['description'], row['photo_url'], row['rating']))\n",
    "            connection.commit()\n",
    "            cursor.close()\n",
    "    except Exception as e:\n",
    "        print(f\"An error occurred while inserting data: {str(e)}\")\n",
    "def read_csv_file(file_path):\n",
    "    data = []\n",
    "    with open(file_path, 'r', newline='') as csvfile:\n",
    "        reader = csv.DictReader(csvfile)\n",
    "        for row in reader:\n",
    "            data.append(row)\n",
    "    return data\n",
    "\n",
    "def main():\n",
    "    file_path2 = 'daraz_laptops.csv'  # Replace with the path to your CSV file\n",
    "    data2 = read_csv_file(file_path2)\n",
    "   \n",
    "    insert_data_to_database(connection,data2)  # Pass the connection object and data2\n",
    "\n",
    "if __name__ == \"__main__\":\n",
    "    main()\n"
   ]
  },
  {
   "cell_type": "code",
   "execution_count": null,
   "id": "943c61c8-ec02-476e-a629-8dcc5f9df3a7",
   "metadata": {},
   "outputs": [],
   "source": []
  }
 ],
 "metadata": {
  "kernelspec": {
   "display_name": "Python 3 (ipykernel)",
   "language": "python",
   "name": "python3"
  },
  "language_info": {
   "codemirror_mode": {
    "name": "ipython",
    "version": 3
   },
   "file_extension": ".py",
   "mimetype": "text/x-python",
   "name": "python",
   "nbconvert_exporter": "python",
   "pygments_lexer": "ipython3",
   "version": "3.9.8"
  }
 },
 "nbformat": 4,
 "nbformat_minor": 5
}
